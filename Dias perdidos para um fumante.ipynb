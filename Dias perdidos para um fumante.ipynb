{
  "nbformat": 4,
  "nbformat_minor": 0,
  "metadata": {
    "colab": {
      "name": "Untitled0.ipynb",
      "provenance": [],
      "authorship_tag": "ABX9TyMZXNe8JHDvtDjznMUx1Gdx",
      "include_colab_link": true
    },
    "kernelspec": {
      "name": "python3",
      "display_name": "Python 3"
    },
    "language_info": {
      "name": "python"
    }
  },
  "cells": [
    {
      "cell_type": "markdown",
      "metadata": {
        "id": "view-in-github",
        "colab_type": "text"
      },
      "source": [
        "<a href=\"https://colab.research.google.com/github/m-a-y-2000/Tela-de-Aparencia-Renpy/blob/main/Dias%20perdidos%20para%20um%20fumante.ipynb\" target=\"_parent\"><img src=\"https://colab.research.google.com/assets/colab-badge.svg\" alt=\"Open In Colab\"/></a>"
      ]
    },
    {
      "cell_type": "code",
      "execution_count": 7,
      "metadata": {
        "id": "Hz-IPVhPVgVB"
      },
      "outputs": [],
      "source": [
        "def DiasPerdidos():\n",
        "  quantCigarro = int(input(\"Quantos cigarros você fuma por dia: \"))\n",
        "  quantAnos = float(input(\"Por quantos anos você fuma: \"))\n",
        "\n",
        "  dias = quantAnos * 365\n",
        "  totalCigarro = quantCigarro * dias\n",
        "  tempoPerdidoMin = totalCigarro * 10\n",
        "  tempoPerdidoDias = (tempoPerdidoMin / 60) / 24\n",
        "\n",
        "  print(\"Você perdeu: \", tempoPerdidoDias, \" da sua vida.\")"
      ]
    },
    {
      "cell_type": "code",
      "source": [
        "DiasPerdidos()"
      ],
      "metadata": {
        "colab": {
          "base_uri": "https://localhost:8080/"
        },
        "id": "R1Ch3O3naqYB",
        "outputId": "26e033ee-ea30-4ea2-c2e6-bfd59c459a1a"
      },
      "execution_count": 4,
      "outputs": [
        {
          "output_type": "stream",
          "name": "stdout",
          "text": [
            "Quantos cigarros você fuma por dia: 2\n",
            "Por quantos anos você fuma: 1\n",
            "Você perdeu:  5.069444444444445  da sua vida.\n"
          ]
        }
      ]
    }
  ]
}