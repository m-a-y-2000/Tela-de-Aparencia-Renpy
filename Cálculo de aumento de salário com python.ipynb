{
  "nbformat": 4,
  "nbformat_minor": 0,
  "metadata": {
    "colab": {
      "name": "Untitled0.ipynb",
      "provenance": [],
      "authorship_tag": "ABX9TyNJLokFYVmuj0igl3rjR9Iu",
      "include_colab_link": true
    },
    "kernelspec": {
      "name": "python3",
      "display_name": "Python 3"
    },
    "language_info": {
      "name": "python"
    }
  },
  "cells": [
    {
      "cell_type": "markdown",
      "metadata": {
        "id": "view-in-github",
        "colab_type": "text"
      },
      "source": [
        "<a href=\"https://colab.research.google.com/github/m-a-y-2000/Tela-de-Aparencia-Renpy/blob/main/C%C3%A1lculo%20de%20aumento%20de%20sal%C3%A1rio%20com%20python.ipynb\" target=\"_parent\"><img src=\"https://colab.research.google.com/assets/colab-badge.svg\" alt=\"Open In Colab\"/></a>"
      ]
    },
    {
      "cell_type": "code",
      "execution_count": 28,
      "metadata": {
        "id": "TnhOcuA0_1pA"
      },
      "outputs": [],
      "source": [
        "def NovoSalario():\n",
        "  sal = float(input(\"Digite o valor do seu salário: \"))\n",
        "  porc = float(input(\"Digite a porcentagem do aumento: \"))\n",
        "\n",
        "  aumento = (sal*porc)/100\n",
        "  novosal = sal + aumento\n",
        "\n",
        "  print(\"O salário novo é: \", novosal, \" e o aumento foi de: \", aumento)"
      ]
    },
    {
      "cell_type": "code",
      "source": [
        "NovoSalario()"
      ],
      "metadata": {
        "colab": {
          "base_uri": "https://localhost:8080/"
        },
        "id": "etTaL0KLRD0N",
        "outputId": "38143267-6900-481d-daac-ab36d034ec13"
      },
      "execution_count": 29,
      "outputs": [
        {
          "output_type": "stream",
          "name": "stdout",
          "text": [
            "Digite o valor do seu salário: 1000\n",
            "Digite a porcentagem do aumento: 20\n",
            "O salário novo é:  1200.0  e o aumento foi de:  200.0\n"
          ]
        }
      ]
    }
  ]
}