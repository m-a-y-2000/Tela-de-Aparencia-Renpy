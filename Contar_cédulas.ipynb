{
  "nbformat": 4,
  "nbformat_minor": 0,
  "metadata": {
    "colab": {
      "name": "Contar cédulas.ipynb",
      "provenance": [],
      "authorship_tag": "ABX9TyPZfsz3FFbnfD5FREi7sKqT",
      "include_colab_link": true
    },
    "kernelspec": {
      "name": "python3",
      "display_name": "Python 3"
    },
    "language_info": {
      "name": "python"
    }
  },
  "cells": [
    {
      "cell_type": "markdown",
      "metadata": {
        "id": "view-in-github",
        "colab_type": "text"
      },
      "source": [
        "<a href=\"https://colab.research.google.com/github/m-a-y-2000/Tela-de-Aparencia-Renpy/blob/main/Contar_c%C3%A9dulas.ipynb\" target=\"_parent\"><img src=\"https://colab.research.google.com/assets/colab-badge.svg\" alt=\"Open In Colab\"/></a>"
      ]
    },
    {
      "cell_type": "code",
      "execution_count": 1,
      "metadata": {
        "id": "xfkwvKI8n-TD"
      },
      "outputs": [],
      "source": [
        "def Saque():\n",
        "  valor = int(input(\"Digite o valor a sacar: \"))\n",
        "\n",
        "  val100 = valor // 100\n",
        "  resto = valor % 100\n",
        "\n",
        "  val50 = resto // 50\n",
        "  resto = resto % 50\n",
        "\n",
        "  val10 = resto // 10\n",
        "  resto = resto % 10\n",
        "\n",
        "  val5 = resto // 5\n",
        "  resto = resto % 5\n",
        "\n",
        "  val1 = resto // 1\n",
        "\n",
        "  print(val100, val50, val10, val5, val1)"
      ]
    },
    {
      "cell_type": "code",
      "source": [
        "Saque()"
      ],
      "metadata": {
        "colab": {
          "base_uri": "https://localhost:8080/"
        },
        "id": "iHK81CGwsx2P",
        "outputId": "8005333f-b701-4bc9-dc6c-657821eacf2b"
      },
      "execution_count": 2,
      "outputs": [
        {
          "output_type": "stream",
          "name": "stdout",
          "text": [
            "Digite o valor a sacar: 345\n",
            "3 0 4 1 0\n"
          ]
        }
      ]
    }
  ]
}